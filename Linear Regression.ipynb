{
  "nbformat": 4,
  "nbformat_minor": 0,
  "metadata": {
    "colab": {
      "provenance": [],
      "authorship_tag": "ABX9TyOtgnEpKmZHYbIc8xURlIqb",
      "include_colab_link": true
    },
    "kernelspec": {
      "name": "python3",
      "display_name": "Python 3"
    },
    "language_info": {
      "name": "python"
    }
  },
  "cells": [
    {
      "cell_type": "markdown",
      "metadata": {
        "id": "view-in-github",
        "colab_type": "text"
      },
      "source": [
        "<a href=\"https://colab.research.google.com/github/yashasangani/Machine-Learning/blob/main/Linear%20Regression.ipynb\" target=\"_parent\"><img src=\"https://colab.research.google.com/assets/colab-badge.svg\" alt=\"Open In Colab\"/></a>"
      ]
    },
    {
      "cell_type": "markdown",
      "source": [
        "# Step 1: loading the data"
      ],
      "metadata": {
        "id": "GfbAgWqR4Ma7"
      }
    },
    {
      "cell_type": "code",
      "execution_count": null,
      "metadata": {
        "id": "AduHtHXWze-2"
      },
      "outputs": [],
      "source": [
        "import numpy as np\n",
        "data = np.loadtxt('https://files.codingninjas.in/data-6984.csv',delimiter = ',')\n",
        "x = data[:,0].reshape(-1,1)\n",
        "y = data[:,1]"
      ]
    },
    {
      "cell_type": "code",
      "source": [
        "x.shape,y.shape"
      ],
      "metadata": {
        "colab": {
          "base_uri": "https://localhost:8080/"
        },
        "id": "06Ywm_uB4ews",
        "outputId": "fb51bdd9-1f54-4b8d-c1f8-92738569ecb1"
      },
      "execution_count": null,
      "outputs": [
        {
          "output_type": "execute_result",
          "data": {
            "text/plain": [
              "((100, 1), (100,))"
            ]
          },
          "metadata": {},
          "execution_count": 28
        }
      ]
    },
    {
      "cell_type": "markdown",
      "source": [
        "# Step 2 : Perform basic data quality check"
      ],
      "metadata": {
        "id": "3by6rkKf49Q3"
      }
    },
    {
      "cell_type": "code",
      "source": [
        "np.isnan(data).sum()"
      ],
      "metadata": {
        "colab": {
          "base_uri": "https://localhost:8080/"
        },
        "id": "TIwi9RR241xq",
        "outputId": "93892ae0-bf96-4c6c-fbac-b283a39e60df"
      },
      "execution_count": null,
      "outputs": [
        {
          "output_type": "execute_result",
          "data": {
            "text/plain": [
              "0"
            ]
          },
          "metadata": {},
          "execution_count": 29
        }
      ]
    },
    {
      "cell_type": "code",
      "source": [
        "unq, count = np.unique(data, axis=0, return_counts=True)\n",
        "unq[count>1]"
      ],
      "metadata": {
        "colab": {
          "base_uri": "https://localhost:8080/"
        },
        "id": "kbBdfXuM45rE",
        "outputId": "4ec0bc75-5045-45c6-baf3-0547210d3d9d"
      },
      "execution_count": null,
      "outputs": [
        {
          "output_type": "execute_result",
          "data": {
            "text/plain": [
              "array([], shape=(0, 2), dtype=float64)"
            ]
          },
          "metadata": {},
          "execution_count": 30
        }
      ]
    },
    {
      "cell_type": "markdown",
      "source": [
        "# Step 3 : Splitting the data"
      ],
      "metadata": {
        "id": "0hSv3xdb62SG"
      }
    },
    {
      "cell_type": "code",
      "source": [
        "from sklearn.model_selection import train_test_split\n",
        "x_train, x_test, y_train, y_test = train_test_split(x, y, test_size=0.2, random_state=42)"
      ],
      "metadata": {
        "id": "38S-EdmT6VKo"
      },
      "execution_count": null,
      "outputs": []
    },
    {
      "cell_type": "code",
      "source": [
        "x_train.shape,x_test.shape,y_train.shape,y_test.shape"
      ],
      "metadata": {
        "colab": {
          "base_uri": "https://localhost:8080/"
        },
        "id": "MOY0_S8q61mG",
        "outputId": "d7e06924-d712-4039-ab05-12049ea01d32"
      },
      "execution_count": null,
      "outputs": [
        {
          "output_type": "execute_result",
          "data": {
            "text/plain": [
              "((80, 1), (20, 1), (80,), (20,))"
            ]
          },
          "metadata": {},
          "execution_count": 32
        }
      ]
    },
    {
      "cell_type": "markdown",
      "source": [
        "# Step 4 : Generating the model"
      ],
      "metadata": {
        "id": "19JP1fbg7Tr9"
      }
    },
    {
      "cell_type": "code",
      "source": [
        "from sklearn.linear_model import LinearRegression\n",
        "model = LinearRegression()\n",
        "model.fit(x_train,y_train)\n",
        "y_pred = model.predict(x_test)"
      ],
      "metadata": {
        "id": "Rg-5-PWg7QvF"
      },
      "execution_count": null,
      "outputs": []
    },
    {
      "cell_type": "markdown",
      "source": [
        "# Step 5 : Evaluation"
      ],
      "metadata": {
        "id": "1yyLHXd18H7j"
      }
    },
    {
      "cell_type": "code",
      "source": [
        "from sklearn.metrics import mean_squared_error\n",
        "MSE = mean_squared_error(y_test,y_pred)\n",
        "print(\"mean_squared_error = \",MSE)\n",
        "co_eff = model.coef_\n",
        "intercept = model.intercept_\n",
        "print(\"co_efficient = \" ,co_eff[0] ,\"\\nintercept = \",intercept)"
      ],
      "metadata": {
        "colab": {
          "base_uri": "https://localhost:8080/"
        },
        "id": "VJnLE-st8HgT",
        "outputId": "b9c0e5e7-c28e-46e1-ce0d-9ebc4a3534c9"
      },
      "execution_count": null,
      "outputs": [
        {
          "output_type": "stream",
          "name": "stdout",
          "text": [
            "mean_squared_error =  153.20927168160281\n",
            "co_efficient =  1.1946378687565002 \n",
            "intercept =  15.076360550264702\n"
          ]
        }
      ]
    },
    {
      "cell_type": "markdown",
      "source": [
        "# Step 6 : Plot a graph"
      ],
      "metadata": {
        "id": "4QjvpdxC93dq"
      }
    },
    {
      "cell_type": "code",
      "source": [
        "import matplotlib.pyplot as plt\n",
        "plt.scatter(x_test,y_test)\n",
        "plt.plot(x_test,y_pred,color = \"red\")\n",
        "plt.xlabel(\"x_test\")\n",
        "plt.ylabel(\"y_test/y_pred\")\n",
        "plt.show()"
      ],
      "metadata": {
        "colab": {
          "base_uri": "https://localhost:8080/",
          "height": 449
        },
        "id": "AxO7ezMj7uBD",
        "outputId": "2c2976bf-b98f-407a-dd63-e9d6763efa3a"
      },
      "execution_count": null,
      "outputs": [
        {
          "output_type": "display_data",
          "data": {
            "text/plain": [
              "<Figure size 640x480 with 1 Axes>"
            ],
            "image/png": "[encoded data removed]"
          },
          "metadata": {}
        }
      ]
    },
    {
      "cell_type": "markdown",
      "source": [
        "# Implementing the Linear Regression from scratch"
      ],
      "metadata": {
        "id": "wgKkETPgqJj2"
      }
    },
    {
      "cell_type": "code",
      "source": [
        "import numpy as np\n",
        "data = np.loadtxt('https://files.codingninjas.in/data-6984.csv',delimiter = ',')\n",
        "X = data[:,0].reshape(-1,1)\n",
        "Y = data[:,1]"
      ],
      "metadata": {
        "id": "cIiAEP0b-RqC"
      },
      "execution_count": null,
      "outputs": []
    },
    {
      "cell_type": "code",
      "source": [
        "X.shape"
      ],
      "metadata": {
        "colab": {
          "base_uri": "https://localhost:8080/"
        },
        "id": "C62Pzkg-q3UT",
        "outputId": "61c0f717-385d-4da1-d115-0197aa93785a"
      },
      "execution_count": null,
      "outputs": [
        {
          "output_type": "execute_result",
          "data": {
            "text/plain": [
              "(100, 1)"
            ]
          },
          "metadata": {},
          "execution_count": 37
        }
      ]
    },
    {
      "cell_type": "code",
      "source": [
        "from sklearn.model_selection import train_test_split\n",
        "X_train, X_test, Y_train, Y_test = train_test_split(X, Y, test_size=0.2, random_state=42)\n",
        "X_train.shape,X_test.shape,Y_train.shape,Y_test.shape"
      ],
      "metadata": {
        "colab": {
          "base_uri": "https://localhost:8080/"
        },
        "id": "_WwtCqUAq7vM",
        "outputId": "61dafeab-c7c6-4435-dd11-c3bdfe131d0a"
      },
      "execution_count": null,
      "outputs": [
        {
          "output_type": "execute_result",
          "data": {
            "text/plain": [
              "((80, 1), (20, 1), (80,), (20,))"
            ]
          },
          "metadata": {},
          "execution_count": 38
        }
      ]
    },
    {
      "cell_type": "code",
      "source": [
        "# This function is used to find the best fit line using the training data\n",
        "def fit(x_train,y_train):\n",
        "  num = (x_train * y_train).mean() - x_train.mean() * y_train.mean()\n",
        "  den = (x_train**2).mean() - x_train.mean()**2\n",
        "  m = num/den\n",
        "  c = y_train.mean() - m*x_train.mean()\n",
        "  return m,c"
      ],
      "metadata": {
        "id": "aPqBAJF0rL48"
      },
      "execution_count": null,
      "outputs": []
    },
    {
      "cell_type": "code",
      "source": [
        "# This function predicts the value of 'y' corresponding to each 'x'\n",
        "def predict (x,m,c):\n",
        "  return m*x + c"
      ],
      "metadata": {
        "id": "aWcuQFVDr82G"
      },
      "execution_count": null,
      "outputs": []
    },
    {
      "cell_type": "code",
      "source": [
        "# This function returns the score using the Y(actual) and Y(predited), coefficient of determination\n",
        "def score(y_test,y_pred):\n",
        "  num = ((y_test - y_pred)**2).sum()\n",
        "  den = ((y_test - y_test.mean())**2).sum()\n",
        "  return 1 - num/den"
      ],
      "metadata": {
        "id": "pB3Pzz28sIAe"
      },
      "execution_count": null,
      "outputs": []
    },
    {
      "cell_type": "code",
      "source": [
        "def cost(x,y,m,c):\n",
        "  return ((y - m*x - c)**2).mean()"
      ],
      "metadata": {
        "id": "bqJLUFg5sbOb"
      },
      "execution_count": null,
      "outputs": []
    },
    {
      "cell_type": "code",
      "source": [
        "m,c = fit(X_train,Y_train)\n",
        "Y_pred = predict (X_test,m,c)\n",
        "Score =score(Y_test,Y_pred)\n"
      ],
      "metadata": {
        "id": "yiZPF1fitBy5"
      },
      "execution_count": null,
      "outputs": []
    },
    {
      "cell_type": "markdown",
      "source": [],
      "metadata": {
        "id": "6rjmQhQZqugC"
      }
    },
    {
      "cell_type": "code",
      "source": [
        "from sklearn.metrics import mean_squared_error\n",
        "MSE_self_implement = mean_squared_error(Y_test,Y_pred)"
      ],
      "metadata": {
        "id": "1sl5n0vStn2o"
      },
      "execution_count": null,
      "outputs": []
    },
    {
      "cell_type": "code",
      "source": [
        "print(\"MSE calculated using self implemented code :\",MSE_self_implement)\n",
        "print(\"MSE calculated using Sklearn's implementation:\", MSE)"
      ],
      "metadata": {
        "colab": {
          "base_uri": "https://localhost:8080/"
        },
        "id": "T2BshL3ytu3w",
        "outputId": "5452a860-e402-41e4-b0d9-20da043e4e22"
      },
      "execution_count": null,
      "outputs": [
        {
          "output_type": "stream",
          "name": "stdout",
          "text": [
            "MSE calculated using self implemented code : 479.5798583008358\n",
            "MSE calculated using Sklearn's implementation: 153.20927168160281\n"
          ]
        }
      ]
    },
    {
      "cell_type": "markdown",
      "source": [
        "It can be seen that the Sklearn's implementations gives us a litlle less mean squared error as compared to the self implementation, but they are very close to each other.\n",
        "\n"
      ],
      "metadata": {
        "id": "Ig-rn8BKuM3E"
      }
    },
    {
      "cell_type": "markdown",
      "source": [
        "# Exercise\n",
        "Predict canada's per capita income in year 2020. There is an exercise folder here on github at same level as this notebook, download that and you will find canada_per_capita_income.csv file. Using this build a regression model and predict the per capita income fo canadian citizens in year 2020\n"
      ],
      "metadata": {
        "id": "4t-yOZkohFSu"
      }
    },
    {
      "cell_type": "code",
      "source": [
        "import numpy as np\n",
        "import pandas as pd"
      ],
      "metadata": {
        "id": "yK7pWKQJtvzh"
      },
      "execution_count": 1,
      "outputs": []
    },
    {
      "cell_type": "code",
      "source": [
        "df = pd.read_csv('https://raw.githubusercontent.com/codebasics/py/master/ML/1_linear_reg/Exercise/canada_per_capita_income.csv')\n",
        "df.columns"
      ],
      "metadata": {
        "id": "RZsJr-7wh5vF",
        "outputId": "71fdcc66-4ef3-4fce-8555-9e5bc9c72c30",
        "colab": {
          "base_uri": "https://localhost:8080/"
        }
      },
      "execution_count": 3,
      "outputs": [
        {
          "output_type": "execute_result",
          "data": {
            "text/plain": [
              "Index(['year', 'per capita income (US$)'], dtype='object')"
            ]
          },
          "metadata": {},
          "execution_count": 3
        }
      ]
    },
    {
      "cell_type": "code",
      "source": [
        "x = df[[\"year\"]]\n",
        "y = df['per capita income (US$)']\n"
      ],
      "metadata": {
        "id": "2QNWc3tNiAQZ"
      },
      "execution_count": 21,
      "outputs": []
    },
    {
      "cell_type": "code",
      "source": [
        "from sklearn.linear_model import LinearRegression\n",
        "alg = LinearRegression()\n",
        "alg.fit(x,y)\n",
        "alg.predict([[2020]])\n"
      ],
      "metadata": {
        "id": "6OUmXCWkiDFU",
        "outputId": "491bf23d-5dfe-4e82-b327-77d30f7f11cb",
        "colab": {
          "base_uri": "https://localhost:8080/"
        }
      },
      "execution_count": 23,
      "outputs": [
        {
          "output_type": "stream",
          "name": "stderr",
          "text": [
            "/usr/local/lib/python3.10/dist-packages/sklearn/base.py:439: UserWarning: X does not have valid feature names, but LinearRegression was fitted with feature names\n",
            "  warnings.warn(\n"
          ]
        },
        {
          "output_type": "execute_result",
          "data": {
            "text/plain": [
              "array([41288.69409442])"
            ]
          },
          "metadata": {},
          "execution_count": 23
        }
      ]
    },
    {
      "cell_type": "markdown",
      "source": [
        "# Answer is : Canada's per capita income in 2020 will be 41288.69409442"
      ],
      "metadata": {
        "id": "LLWFHhHdkgE4"
      }
    },
    {
      "cell_type": "code",
      "source": [
        "41288"
      ],
      "metadata": {
        "id": "4NjymTC9iuQG"
      },
      "execution_count": 22,
      "outputs": []
    }
  ]
}