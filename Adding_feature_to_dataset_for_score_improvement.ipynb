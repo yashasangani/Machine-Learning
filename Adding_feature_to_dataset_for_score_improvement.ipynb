{
  "nbformat": 4,
  "nbformat_minor": 0,
  "metadata": {
    "colab": {
      "provenance": [],
      "authorship_tag": "ABX9TyMgmrVRvFiV24siXDmyOLfU",
      "include_colab_link": true
    },
    "kernelspec": {
      "name": "python3",
      "display_name": "Python 3"
    },
    "language_info": {
      "name": "python"
    }
  },
  "cells": [
    {
      "cell_type": "markdown",
      "metadata": {
        "id": "view-in-github",
        "colab_type": "text"
      },
      "source": [
        "<a href=\"https://colab.research.google.com/github/yashasangani/Machine-Learning/blob/main/Adding_feature_to_dataset_for_score_improvement.ipynb\" target=\"_parent\"><img src=\"https://colab.research.google.com/assets/colab-badge.svg\" alt=\"Open In Colab\"/></a>"
      ]
    },
    {
      "cell_type": "code",
      "execution_count": null,
      "metadata": {
        "id": "EZ__FCUmCVYx"
      },
      "outputs": [],
      "source": []
    },
    {
      "cell_type": "markdown",
      "source": [
        "#Problem statement\n",
        "In this problem you need to load the Boston dataset from sklearn toy datasets. After loading, you need to split the dataset into testing and training datasets. Now, fit the linear regression model on the training dataset and store the training and testing scores.\n",
        "After this add two more columns to the dataset. These columns are the squared values of the 'AGE' and the 'RM' columns respectively.\n",
        "Again split the dataset into testing and training datasets. Now, fit the linear regression model on the training dataset and store the training and testing scores.\n",
        "Compare the scores of both the models and print \"Score improved\" if both training and testing scores improved after squaring two columns. Otherwise, print \"Score not improved\".\n",
        "Output\n",
        "If both training and testing scores improved after squaring two columns print:\n",
        "\n",
        "\"Score improved\"\n",
        "\n",
        "Else print:\n",
        "\n",
        "\"Score not improved\""
      ],
      "metadata": {
        "id": "9Ogpj47ZCjaN"
      }
    },
    {
      "cell_type": "code",
      "source": [
        "import pandas as pd\n",
        "import numpy as np\n",
        "from sklearn.model_selection import train_test_split\n",
        "from sklearn.linear_model import LinearRegression\n",
        "\n",
        "df = pd.read_csv(\"https://raw.githubusercontent.com/yashasangani/Datasets/main/datase.csv\")\n",
        "x = df.iloc[:,:-1]\n",
        "y=df.iloc[:,-1]\n",
        "x_train,x_test,y_train,y_test=train_test_split(x,y,random_state=42)\n",
        "alg1 = LinearRegression()\n",
        "alg1.fit(x_train,y_train)\n",
        "y_pred = alg1.predict(x_test)\n",
        "training_score = alg1.score(x_train,y_train)\n",
        "testing_score = alg1.score(x_test,y_test)\n",
        "\n",
        "x['AGE**2'] = x.AGE**2\n",
        "x[\"RM**\"] = x.RM**2\n",
        "x2=x\n",
        "x2_train,x2_test,y2_train,y2_test=train_test_split(x2,y,random_state=42)\n",
        "alg2 = LinearRegression()\n",
        "alg2.fit(x2_train,y2_train)\n",
        "y_pred2 = alg2.predict(x2_test)\n",
        "training_score2 = alg2.score(x2_train,y2_train)\n",
        "testing_score2 = alg2.score(x2_test,y2_test)\n",
        "print(\"training_score = \", training_score,\"\\ntraining_score2 = \",training_score2,\"\\ntesting_score = \", testing_score,\"\\ntesting_score2 = \",testing_score2)\n",
        "if training_score < training_score2 and testing_score < testing_score2:\n",
        "    print(\"Score impoved\")\n",
        "else:\n",
        "    print(\"Score not improved\")\n"
      ],
      "metadata": {
        "colab": {
          "base_uri": "https://localhost:8080/"
        },
        "id": "DEVuKIDuCWW4",
        "outputId": "e4e980f7-a361-411b-9f5f-f35f424d708d"
      },
      "execution_count": 5,
      "outputs": [
        {
          "output_type": "stream",
          "name": "stdout",
          "text": [
            "training_score =  0.748087259862344 \n",
            "training_score2 =  0.8077252158661739 \n",
            "testing_score =  0.6844267283527083 \n",
            "testing_score2 =  0.7779700049598031\n",
            "Score impoved\n"
          ]
        }
      ]
    },
    {
      "cell_type": "code",
      "source": [],
      "metadata": {
        "id": "oPFrYbZ5Cmvb"
      },
      "execution_count": null,
      "outputs": []
    }
  ]
}