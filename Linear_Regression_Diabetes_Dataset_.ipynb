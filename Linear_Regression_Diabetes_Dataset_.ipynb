{
  "nbformat": 4,
  "nbformat_minor": 0,
  "metadata": {
    "colab": {
      "provenance": [],
      "authorship_tag": "ABX9TyOgeMUTY370FcGC7wrBneM5",
      "include_colab_link": true
    },
    "kernelspec": {
      "name": "python3",
      "display_name": "Python 3"
    },
    "language_info": {
      "name": "python"
    }
  },
  "cells": [
    {
      "cell_type": "markdown",
      "metadata": {
        "id": "view-in-github",
        "colab_type": "text"
      },
      "source": [
        "<a href=\"https://colab.research.google.com/github/yashasangani/Machine-Learning/blob/main/Linear_Regression_Diabetes_Dataset_.ipynb\" target=\"_parent\"><img src=\"https://colab.research.google.com/assets/colab-badge.svg\" alt=\"Open In Colab\"/></a>"
      ]
    },
    {
      "cell_type": "code",
      "execution_count": null,
      "metadata": {
        "id": "_N4eK5G2PzOX"
      },
      "outputs": [],
      "source": []
    },
    {
      "cell_type": "markdown",
      "source": [
        "#Problem statement\n",
        "Diabetes dataset is one of the datasets available in sklearn. The diabetes dataset consists of 10 physiological variables (age, sex, weight, blood pressure) measure on 442 patients, and an indication of disease progression after one year.\n",
        "You are given a Training dataset csv file with X train and Y train data. As studied in lecture, your task is to come up with Linear Regression training algorithm and thus predictions for the test dataset given.\n",
        "Read Instructions carefully -\n",
        "1. Use Linear Regression(in scikit learn) as a training algorithm and submit results predicted by that.\n",
        "2. Files are in csv format, use genfromtxt function in numpy to load data from csv file. Similarly you can use savetxt function to save data into a file.\n",
        "3. Submit a csv file with only predictions for X test data. File should not have any headers and should only have one column i.e. predictions.  Also prediction values in file should be upto **5** decimal places.\n",
        "4. Upon submission of predictions, the score you will get is based on coefficient of determination."
      ],
      "metadata": {
        "id": "MUL2HzmeP_9e"
      }
    },
    {
      "cell_type": "code",
      "source": [
        "import numpy as np\n",
        "data = np.genfromtxt('https://raw.githubusercontent.com/yashasangani/Machine-Learning/main/diabetes_x_test.csv', delimiter=',')"
      ],
      "metadata": {
        "id": "Y_f5PDuCQDBY"
      },
      "execution_count": 6,
      "outputs": []
    },
    {
      "cell_type": "code",
      "source": [
        "np.isnan(data).sum()"
      ],
      "metadata": {
        "colab": {
          "base_uri": "https://localhost:8080/"
        },
        "id": "ErJ3XxMyZZ3U",
        "outputId": "6980cb57-ed16-44dd-bef1-766632443c5d"
      },
      "execution_count": 10,
      "outputs": [
        {
          "output_type": "execute_result",
          "data": {
            "text/plain": [
              "0"
            ]
          },
          "metadata": {},
          "execution_count": 10
        }
      ]
    },
    {
      "cell_type": "code",
      "source": [
        "uni ,count = np.unique(data,axis=0,return_counts=True)\n",
        "print(uni[count>1])"
      ],
      "metadata": {
        "colab": {
          "base_uri": "https://localhost:8080/"
        },
        "id": "HZ0IovVIaxqW",
        "outputId": "44d72fb9-33f8-47b3-a770-c7abf8b3e6e8"
      },
      "execution_count": 15,
      "outputs": [
        {
          "output_type": "stream",
          "name": "stdout",
          "text": [
            "[]\n"
          ]
        }
      ]
    },
    {
      "cell_type": "code",
      "source": [
        "x = data[:,:-1]\n",
        "y = data[:,-1]"
      ],
      "metadata": {
        "id": "4INLYiHWbM0x"
      },
      "execution_count": 17,
      "outputs": []
    },
    {
      "cell_type": "code",
      "source": [
        "x.shape,y.shape"
      ],
      "metadata": {
        "colab": {
          "base_uri": "https://localhost:8080/"
        },
        "id": "gvG6OsIfboOC",
        "outputId": "937f0f2c-6fa6-4f45-f6f3-e600ba17841a"
      },
      "execution_count": 18,
      "outputs": [
        {
          "output_type": "execute_result",
          "data": {
            "text/plain": [
              "((111, 9), (111,))"
            ]
          },
          "metadata": {},
          "execution_count": 18
        }
      ]
    },
    {
      "cell_type": "code",
      "source": [
        "from sklearn.model_selection import train_test_split\n",
        "x_train,x_test,y_train,y_test = train_test_split(x,y,test_size = 0.3, random_state = 42)\n",
        "x_train.shape,x_test.shape,y_train.shape,y_test.shape"
      ],
      "metadata": {
        "colab": {
          "base_uri": "https://localhost:8080/"
        },
        "id": "9-cRgJsob9b0",
        "outputId": "58e79121-b32f-4621-fb3f-609d54930404"
      },
      "execution_count": 19,
      "outputs": [
        {
          "output_type": "execute_result",
          "data": {
            "text/plain": [
              "((77, 9), (34, 9), (77,), (34,))"
            ]
          },
          "metadata": {},
          "execution_count": 19
        }
      ]
    },
    {
      "cell_type": "code",
      "source": [
        "from sklearn.linear_model import LinearRegression\n",
        "model =LinearRegression()\n",
        "model.fit(x_train,y_train)\n",
        "y_pred = model.predict(x_test)"
      ],
      "metadata": {
        "id": "YQe0CtR6cVY5"
      },
      "execution_count": 20,
      "outputs": []
    },
    {
      "cell_type": "code",
      "source": [
        "result = np.round(y_pred,5)\n",
        "result"
      ],
      "metadata": {
        "colab": {
          "base_uri": "https://localhost:8080/"
        },
        "id": "mXTiM9mdcmI-",
        "outputId": "62141974-7538-4b36-996c-d61ec663f49b"
      },
      "execution_count": 24,
      "outputs": [
        {
          "output_type": "execute_result",
          "data": {
            "text/plain": [
              "array([ 0.01951,  0.01137, -0.05379,  0.00162, -0.05011, -0.0572 ,\n",
              "        0.03349, -0.00449,  0.01585, -0.02871, -0.0116 , -0.0431 ,\n",
              "       -0.01612, -0.00727, -0.02535, -0.0063 ,  0.0136 ,  0.02133,\n",
              "       -0.00405, -0.04263, -0.03411, -0.02267,  0.00041,  0.01394,\n",
              "        0.01491,  0.01741, -0.03422,  0.01225, -0.01677, -0.0216 ,\n",
              "       -0.00688,  0.02094, -0.02663,  0.01588])"
            ]
          },
          "metadata": {},
          "execution_count": 24
        }
      ]
    },
    {
      "cell_type": "code",
      "source": [
        "np.savetxt('y_predict',result,delimiter=',')"
      ],
      "metadata": {
        "id": "Z7nBgrXrcpYr"
      },
      "execution_count": 27,
      "outputs": []
    },
    {
      "cell_type": "code",
      "source": [],
      "metadata": {
        "id": "sbemuNOPdITd"
      },
      "execution_count": null,
      "outputs": []
    }
  ]
}